{
 "cells": [
  {
   "cell_type": "markdown",
   "id": "02bdff93",
   "metadata": {},
   "source": [
    "# ReadMe\n",
    "\n",
    "This repository contains the code for scalable implementation of the advanced urban public transportation system for the scenarios of developing countries where the Intelligent Transportation System (ITS) infrastructure deployment is limited. \n",
    "\n",
    "## Documentation:\n",
    "Please refer the following [link](https://pruthvishrajput.github.io/Advanced-Public-Transportation-System-Software-Implementation/) for the documentation of the proposed system.\n",
    "\n",
    "## Dataset: \n",
    "The project dataset can be found in the given [link](https://doi.org/10.17632/39hjn56wkp.1) (Alternate [link](https://drive.google.com/drive/folders/1ysoAymbBmF03MFmwlD9ul9z-ISxZDWU_?usp=sharing))\n",
    "\n",
    "## Reproducible capsule (For execution in a single click)\n",
    "\n",
    "\n",
    "This repository contains the code for scalable implementation of the advanced urban public transportation system for the scenarios of developing countries where the Intelligent Transportation System (ITS) infrastructure deployment is limited. The software achieves scalability by executing the minimal task in real-time and remaining computation in an offline mode. \n",
    "\n",
    "## Execution of software\n",
    "### Reproducible capsule\n",
    "The reproducible capsule contains all the codes, dataset, and computation environment dependencies (or libraries) in a docker. It guarantees the reproducibility of the code. \n",
    "\n",
    "Click [here](https://codeocean.com/capsule/9953786/tree) to execute the reproducible capsule.\n",
    "\n",
    "### Downloading the file on the local system.\n",
    "The user can download/clone the source code repository in the local system to execute the APTS solution in their system. The user must download the following software (and libraries) before running the code.\n",
    "\n",
    "#### List of required software (and libraries) for local system execution\n",
    "1. Python3\n",
    "2. MongoDB community server\n",
    "3. Python libraries: astropy ≥ 5.1, folium ≥ 0.12.1.post1, ipywidgets ≥ 8.0.2, matplotlib ≥ 3.6.0, notebook ≥ 6.4.12, numpy ≥ 1.23.3, openpyxl ≥ 3.0.10, pandas ≥ 1.5.0, pymongo ≥ 4.2.0 (and xfs file system), scikit-learn ≥ 1.1.2, scipy ≥ 1.9.1, sklearn≥ 0.0\n",
    "\n",
    "\n",
    "In the following pages, the various components of the software are discussed."
   ]
  }
 ],
 "metadata": {
  "kernelspec": {
   "display_name": "Python 3",
   "language": "python",
   "name": "python3"
  },
  "language_info": {
   "codemirror_mode": {
    "name": "ipython",
    "version": 3
   },
   "file_extension": ".py",
   "mimetype": "text/x-python",
   "name": "python",
   "nbconvert_exporter": "python",
   "pygments_lexer": "ipython3",
   "version": "3.8.10"
  }
 },
 "nbformat": 4,
 "nbformat_minor": 5
}
